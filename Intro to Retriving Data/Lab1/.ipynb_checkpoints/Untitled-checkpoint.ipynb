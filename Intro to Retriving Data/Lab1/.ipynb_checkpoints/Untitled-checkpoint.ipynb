{
 "cells": [
  {
   "cell_type": "markdown",
   "metadata": {},
   "source": [
    "<h1>Lab 1</h1>\n",
    "<p>Students: 336249628,336249743</p>"
   ]
  },
  {
   "cell_type": "code",
   "execution_count": 16,
   "metadata": {},
   "outputs": [
    {
     "name": "stdout",
     "output_type": "stream",
     "text": [
      "when\n",
      "is\n",
      "his\n",
      "[' @user when a father is dysfunctional and is so selfish he drags his kids into his dysfunction.   #run', 16, 73, 4.56, 3, 0, 0, 0]\n"
     ]
    }
   ],
   "source": [
    "import pandas as pd\n",
    "from nltk.tokenize import word_tokenize\n",
    "from nltk.corpus import stopwords\n",
    "#-------------------------------------------------------------------------------------------------------------------------------\n",
    "file=pd.read_csv('trainTwitter.csv')\n",
    "tweetCol=file['tweet']\n",
    "tweetTable=list()\n",
    "#create table with inf for each tweet\n",
    "#df = pd.DataFrame(tweets, columns =['Tweet','WordsNumber', 'LettersNumber','Avg_Word_Size','Number of stopwords',\n",
    "                                    #'Number of numeric characters','Number of special characters','Number of capital words'])\n",
    "#-------------------------------------------------------------------------------------------------------------------------------\n",
    "def wordsNumber(str):\n",
    "    temp=str.split()\n",
    "    num=0\n",
    "    for t in temp:\n",
    "        if t[0]!='@' and t[0]!='#':\n",
    "            num=num+1\n",
    "    return num\n",
    "#-------------------------------------------------------------------------------------------------------------------------------\n",
    "def lettersNumber(str):\n",
    "    temp=str.split()\n",
    "    num=0\n",
    "    for t in temp:\n",
    "        if t[0]!='@' and t[0]!='#':\n",
    "            num=num+len(t)\n",
    "    return num\n",
    "#-------------------------------------------------------------------------------------------------------------------------------\n",
    "def stopWordsCount(str):\n",
    "    stop_words = set(stopwords.words('english'))\n",
    "    word_tokens = word_tokenize(str)\n",
    "    num=0\n",
    "    for s in word_tokens:\n",
    "        if s[0]!='@' or s[0]!='#':\n",
    "            word_tokens.remove(s)\n",
    "        if s in stop_words :\n",
    "            num=num+1\n",
    "    return num\n",
    "#-------------------------------------------------------------------------------------------------------------------------------\n",
    "def makingRow(curTweet):\n",
    "    result=list()\n",
    "    result.append(curTweet)\n",
    "    #WordsNumber append\n",
    "    result.append(wordsNumber(curTweet))\n",
    "    #LettersNumber append\n",
    "    result.append(lettersNumber(curTweet))\n",
    "    #Avg_Word_Size append\n",
    "    result.append(round(lettersNumber(curTweet)/wordsNumber(curTweet),2))\n",
    "    #Number of stopwords append\n",
    "    result.append(stopWordsCount(curTweet))\n",
    "    #Number of numeric characters append\n",
    "    result.append(0)\n",
    "    #Number of special characters append\n",
    "    result.append(0)\n",
    "    #Number of capital words append\n",
    "    result.append(0)\n",
    "    return result\n",
    "#-------------------------------------------------------------------------------------------------------------------------------\n",
    "def mainFunc():\n",
    "    i=0\n",
    "    print(makingRow(tweetCol[i]))\n",
    "    #while(i<tweetCol.size(tweetCol[i])):\n",
    "    #    current=makingRow(tweetCol[i])\n",
    "    #    tweetTable.append(current)\n",
    "    #    i=i+1\n",
    "#-------------------------------------------------------------------------------------------------------------------------------\n",
    "\n",
    "mainFunc()"
   ]
  },
  {
   "cell_type": "code",
   "execution_count": null,
   "metadata": {},
   "outputs": [],
   "source": []
  }
 ],
 "metadata": {
  "kernelspec": {
   "display_name": "Python 3",
   "language": "python",
   "name": "python3"
  },
  "language_info": {
   "codemirror_mode": {
    "name": "ipython",
    "version": 3
   },
   "file_extension": ".py",
   "mimetype": "text/x-python",
   "name": "python",
   "nbconvert_exporter": "python",
   "pygments_lexer": "ipython3",
   "version": "3.8.5"
  }
 },
 "nbformat": 4,
 "nbformat_minor": 4
}
