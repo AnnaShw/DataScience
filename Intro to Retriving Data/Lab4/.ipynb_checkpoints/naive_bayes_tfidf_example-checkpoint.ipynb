{
 "cells": [
  {
   "cell_type": "code",
   "execution_count": 1,
   "metadata": {
    "colab": {
     "base_uri": "https://localhost:8080/"
    },
    "id": "MkHB9p3fJpFu",
    "outputId": "0ca0834e-ad3a-4ec8-a559-32aaf78b7240"
   },
   "outputs": [
    {
     "name": "stdout",
     "output_type": "stream",
     "text": [
      "time:  2.169856071472168\n",
      "\n",
      "f1 score: 0.9363086146362469\n",
      "\n",
      "accuracy: 0.9360613810741688\n"
     ]
    }
   ],
   "source": [
    "from sklearn import metrics\n",
    "import time\n",
    "from sklearn.naive_bayes import MultinomialNB\n",
    "from sklearn.metrics import accuracy_score\n",
    "from sklearn import metrics\n",
    "from sklearn.feature_extraction.text import TfidfVectorizer\n",
    "import numpy as np\n",
    "import pandas as pd\n",
    "from sklearn import metrics\n",
    "from sklearn.datasets import fetch_20newsgroups\n",
    "chosen_categories = [ 'sci.crypt',\n",
    "                      'sci.electronics',\n",
    "                      'sci.med',\n",
    "                      'sci.space',\n",
    "                      'talk.politics.mideast']\n",
    "\n",
    "start = time.time()\n",
    "\n",
    "train = fetch_20newsgroups(subset='train',categories=chosen_categories)\n",
    "test = fetch_20newsgroups(subset='test',categories=chosen_categories)\n",
    "vectorizer = TfidfVectorizer()\n",
    "data = vectorizer.fit_transform(train.data)\n",
    "data_test = vectorizer.transform(test.data)\n",
    "\n",
    "clf = MultinomialNB(alpha=.01)\n",
    "clf.fit(data, train.target)\n",
    "pred = clf.predict(data_test)\n",
    "\n",
    "answer = metrics.f1_score(test.target, pred, average='macro')\n",
    "\n",
    "end = time.time()\n",
    "print(\"time: \",end-start)\n",
    "\n",
    "print(\"\\nf1 score:\",answer)\n",
    "acc = accuracy_score(test.target, pred)\n",
    "print(\"\\naccuracy:\",acc)"
   ]
  },
  {
   "cell_type": "code",
   "execution_count": 3,
   "metadata": {
    "colab": {
     "base_uri": "https://localhost:8080/"
    },
    "id": "8-M80IWHKWlV",
    "outputId": "728d95f2-2aa6-404f-a8ab-3c0b1d5b96f1"
   },
   "outputs": [
    {
     "name": "stdout",
     "output_type": "stream",
     "text": [
      "time:  3.3587729930877686\n",
      "f1 score: 0.884470850306738\n",
      "\n",
      "accuracy: 0.8797953964194374\n"
     ]
    }
   ],
   "source": [
    "from sklearn.naive_bayes import BernoulliNB\n",
    "\n",
    "start = time.time()\n",
    "\n",
    "train = fetch_20newsgroups(subset='train',categories=chosen_categories)\n",
    "test = fetch_20newsgroups(subset='test',categories=chosen_categories)\n",
    "vectorizer = TfidfVectorizer()\n",
    "data = vectorizer.fit_transform(train.data)\n",
    "data_test = vectorizer.transform(test.data)\n",
    "\n",
    "clf = BernoulliNB(alpha=.01)\n",
    "clf.fit(data, train.target)\n",
    "pred = clf.predict(data_test)\n",
    "answer = metrics.f1_score(test.target, pred, average='macro')\n",
    "\n",
    "end = time.time()\n",
    "print(\"time: \",end-start)\n",
    "\n",
    "print(\"f1 score:\",answer)\n",
    "\n",
    "acc = accuracy_score(test.target, pred)\n",
    "print(\"\\naccuracy:\",acc)"
   ]
  }
 ],
 "metadata": {
  "colab": {
   "name": "naive bayes tfidf example",
   "provenance": []
  },
  "kernelspec": {
   "display_name": "Python 3 (ipykernel)",
   "language": "python",
   "name": "python3"
  },
  "language_info": {
   "codemirror_mode": {
    "name": "ipython",
    "version": 3
   },
   "file_extension": ".py",
   "mimetype": "text/x-python",
   "name": "python",
   "nbconvert_exporter": "python",
   "pygments_lexer": "ipython3",
   "version": "3.9.7"
  }
 },
 "nbformat": 4,
 "nbformat_minor": 1
}
